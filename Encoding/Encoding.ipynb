{
 "cells": [
  {
   "cell_type": "code",
   "execution_count": 1,
   "id": "8d50b7f7",
   "metadata": {
    "ExecuteTime": {
     "end_time": "2024-12-16T14:48:24.261720Z",
     "start_time": "2024-12-16T14:48:23.781525Z"
    }
   },
   "outputs": [],
   "source": [
    "import pandas as pd \n",
    "import warnings \n",
    "warnings.filterwarnings(\"ignore\")"
   ]
  },
  {
   "cell_type": "code",
   "execution_count": 2,
   "id": "7201bf32",
   "metadata": {
    "ExecuteTime": {
     "end_time": "2024-12-16T14:48:24.717839Z",
     "start_time": "2024-12-16T14:48:24.710631Z"
    }
   },
   "outputs": [],
   "source": [
    "import numpy as np "
   ]
  },
  {
   "cell_type": "code",
   "execution_count": 3,
   "id": "233d0819",
   "metadata": {
    "ExecuteTime": {
     "end_time": "2024-09-21T15:14:37.905414Z",
     "start_time": "2024-09-21T15:14:37.893103Z"
    }
   },
   "outputs": [],
   "source": [
    "data = pd.read_csv(\"homeprices.csv\")"
   ]
  },
  {
   "cell_type": "code",
   "execution_count": 4,
   "id": "52913ece",
   "metadata": {
    "ExecuteTime": {
     "end_time": "2024-09-21T15:14:38.367655Z",
     "start_time": "2024-09-21T15:14:38.344060Z"
    }
   },
   "outputs": [
    {
     "data": {
      "text/html": [
       "<div>\n",
       "<style scoped>\n",
       "    .dataframe tbody tr th:only-of-type {\n",
       "        vertical-align: middle;\n",
       "    }\n",
       "\n",
       "    .dataframe tbody tr th {\n",
       "        vertical-align: top;\n",
       "    }\n",
       "\n",
       "    .dataframe thead th {\n",
       "        text-align: right;\n",
       "    }\n",
       "</style>\n",
       "<table border=\"1\" class=\"dataframe\">\n",
       "  <thead>\n",
       "    <tr style=\"text-align: right;\">\n",
       "      <th></th>\n",
       "      <th>town</th>\n",
       "      <th>area</th>\n",
       "      <th>price</th>\n",
       "    </tr>\n",
       "  </thead>\n",
       "  <tbody>\n",
       "    <tr>\n",
       "      <th>0</th>\n",
       "      <td>monroe township</td>\n",
       "      <td>2600</td>\n",
       "      <td>550000</td>\n",
       "    </tr>\n",
       "    <tr>\n",
       "      <th>1</th>\n",
       "      <td>monroe township</td>\n",
       "      <td>3000</td>\n",
       "      <td>565000</td>\n",
       "    </tr>\n",
       "    <tr>\n",
       "      <th>2</th>\n",
       "      <td>monroe township</td>\n",
       "      <td>3200</td>\n",
       "      <td>610000</td>\n",
       "    </tr>\n",
       "    <tr>\n",
       "      <th>3</th>\n",
       "      <td>monroe township</td>\n",
       "      <td>3600</td>\n",
       "      <td>680000</td>\n",
       "    </tr>\n",
       "    <tr>\n",
       "      <th>4</th>\n",
       "      <td>monroe township</td>\n",
       "      <td>4000</td>\n",
       "      <td>725000</td>\n",
       "    </tr>\n",
       "    <tr>\n",
       "      <th>5</th>\n",
       "      <td>west windsor</td>\n",
       "      <td>2600</td>\n",
       "      <td>585000</td>\n",
       "    </tr>\n",
       "    <tr>\n",
       "      <th>6</th>\n",
       "      <td>west windsor</td>\n",
       "      <td>2800</td>\n",
       "      <td>615000</td>\n",
       "    </tr>\n",
       "    <tr>\n",
       "      <th>7</th>\n",
       "      <td>west windsor</td>\n",
       "      <td>3300</td>\n",
       "      <td>650000</td>\n",
       "    </tr>\n",
       "    <tr>\n",
       "      <th>8</th>\n",
       "      <td>west windsor</td>\n",
       "      <td>3600</td>\n",
       "      <td>710000</td>\n",
       "    </tr>\n",
       "    <tr>\n",
       "      <th>9</th>\n",
       "      <td>robinsville</td>\n",
       "      <td>2600</td>\n",
       "      <td>575000</td>\n",
       "    </tr>\n",
       "    <tr>\n",
       "      <th>10</th>\n",
       "      <td>robinsville</td>\n",
       "      <td>2900</td>\n",
       "      <td>600000</td>\n",
       "    </tr>\n",
       "    <tr>\n",
       "      <th>11</th>\n",
       "      <td>robinsville</td>\n",
       "      <td>3100</td>\n",
       "      <td>620000</td>\n",
       "    </tr>\n",
       "    <tr>\n",
       "      <th>12</th>\n",
       "      <td>robinsville</td>\n",
       "      <td>3600</td>\n",
       "      <td>695000</td>\n",
       "    </tr>\n",
       "  </tbody>\n",
       "</table>\n",
       "</div>"
      ],
      "text/plain": [
       "               town  area   price\n",
       "0   monroe township  2600  550000\n",
       "1   monroe township  3000  565000\n",
       "2   monroe township  3200  610000\n",
       "3   monroe township  3600  680000\n",
       "4   monroe township  4000  725000\n",
       "5      west windsor  2600  585000\n",
       "6      west windsor  2800  615000\n",
       "7      west windsor  3300  650000\n",
       "8      west windsor  3600  710000\n",
       "9       robinsville  2600  575000\n",
       "10      robinsville  2900  600000\n",
       "11      robinsville  3100  620000\n",
       "12      robinsville  3600  695000"
      ]
     },
     "execution_count": 4,
     "metadata": {},
     "output_type": "execute_result"
    }
   ],
   "source": [
    "data "
   ]
  },
  {
   "cell_type": "markdown",
   "id": "60244956",
   "metadata": {},
   "source": [
    "price = m1*x1 + m2*x2 + b "
   ]
  },
  {
   "cell_type": "code",
   "execution_count": 5,
   "id": "da779995",
   "metadata": {
    "ExecuteTime": {
     "end_time": "2024-09-21T15:14:39.435905Z",
     "start_time": "2024-09-21T15:14:39.425341Z"
    }
   },
   "outputs": [],
   "source": [
    "data.replace([ \"monroe township\" , \"west windsor\" , \"robinsville\" ] , [ \"faysal\" , \"el helmya\" , \"el haram\" ] , inplace= True)"
   ]
  },
  {
   "cell_type": "code",
   "execution_count": 6,
   "id": "152f03f7",
   "metadata": {
    "ExecuteTime": {
     "end_time": "2024-09-21T15:14:39.776002Z",
     "start_time": "2024-09-21T15:14:39.758899Z"
    }
   },
   "outputs": [
    {
     "data": {
      "text/html": [
       "<div>\n",
       "<style scoped>\n",
       "    .dataframe tbody tr th:only-of-type {\n",
       "        vertical-align: middle;\n",
       "    }\n",
       "\n",
       "    .dataframe tbody tr th {\n",
       "        vertical-align: top;\n",
       "    }\n",
       "\n",
       "    .dataframe thead th {\n",
       "        text-align: right;\n",
       "    }\n",
       "</style>\n",
       "<table border=\"1\" class=\"dataframe\">\n",
       "  <thead>\n",
       "    <tr style=\"text-align: right;\">\n",
       "      <th></th>\n",
       "      <th>town</th>\n",
       "      <th>area</th>\n",
       "      <th>price</th>\n",
       "    </tr>\n",
       "  </thead>\n",
       "  <tbody>\n",
       "    <tr>\n",
       "      <th>0</th>\n",
       "      <td>faysal</td>\n",
       "      <td>2600</td>\n",
       "      <td>550000</td>\n",
       "    </tr>\n",
       "    <tr>\n",
       "      <th>1</th>\n",
       "      <td>faysal</td>\n",
       "      <td>3000</td>\n",
       "      <td>565000</td>\n",
       "    </tr>\n",
       "    <tr>\n",
       "      <th>2</th>\n",
       "      <td>faysal</td>\n",
       "      <td>3200</td>\n",
       "      <td>610000</td>\n",
       "    </tr>\n",
       "    <tr>\n",
       "      <th>3</th>\n",
       "      <td>faysal</td>\n",
       "      <td>3600</td>\n",
       "      <td>680000</td>\n",
       "    </tr>\n",
       "    <tr>\n",
       "      <th>4</th>\n",
       "      <td>faysal</td>\n",
       "      <td>4000</td>\n",
       "      <td>725000</td>\n",
       "    </tr>\n",
       "    <tr>\n",
       "      <th>5</th>\n",
       "      <td>el helmya</td>\n",
       "      <td>2600</td>\n",
       "      <td>585000</td>\n",
       "    </tr>\n",
       "    <tr>\n",
       "      <th>6</th>\n",
       "      <td>el helmya</td>\n",
       "      <td>2800</td>\n",
       "      <td>615000</td>\n",
       "    </tr>\n",
       "    <tr>\n",
       "      <th>7</th>\n",
       "      <td>el helmya</td>\n",
       "      <td>3300</td>\n",
       "      <td>650000</td>\n",
       "    </tr>\n",
       "    <tr>\n",
       "      <th>8</th>\n",
       "      <td>el helmya</td>\n",
       "      <td>3600</td>\n",
       "      <td>710000</td>\n",
       "    </tr>\n",
       "    <tr>\n",
       "      <th>9</th>\n",
       "      <td>el haram</td>\n",
       "      <td>2600</td>\n",
       "      <td>575000</td>\n",
       "    </tr>\n",
       "    <tr>\n",
       "      <th>10</th>\n",
       "      <td>el haram</td>\n",
       "      <td>2900</td>\n",
       "      <td>600000</td>\n",
       "    </tr>\n",
       "    <tr>\n",
       "      <th>11</th>\n",
       "      <td>el haram</td>\n",
       "      <td>3100</td>\n",
       "      <td>620000</td>\n",
       "    </tr>\n",
       "    <tr>\n",
       "      <th>12</th>\n",
       "      <td>el haram</td>\n",
       "      <td>3600</td>\n",
       "      <td>695000</td>\n",
       "    </tr>\n",
       "  </tbody>\n",
       "</table>\n",
       "</div>"
      ],
      "text/plain": [
       "         town  area   price\n",
       "0      faysal  2600  550000\n",
       "1      faysal  3000  565000\n",
       "2      faysal  3200  610000\n",
       "3      faysal  3600  680000\n",
       "4      faysal  4000  725000\n",
       "5   el helmya  2600  585000\n",
       "6   el helmya  2800  615000\n",
       "7   el helmya  3300  650000\n",
       "8   el helmya  3600  710000\n",
       "9    el haram  2600  575000\n",
       "10   el haram  2900  600000\n",
       "11   el haram  3100  620000\n",
       "12   el haram  3600  695000"
      ]
     },
     "execution_count": 6,
     "metadata": {},
     "output_type": "execute_result"
    }
   ],
   "source": [
    "data "
   ]
  },
  {
   "cell_type": "code",
   "execution_count": 7,
   "id": "e0482738",
   "metadata": {
    "ExecuteTime": {
     "end_time": "2024-09-21T15:14:40.144238Z",
     "start_time": "2024-09-21T15:14:40.121996Z"
    }
   },
   "outputs": [
    {
     "data": {
      "text/html": [
       "<div>\n",
       "<style scoped>\n",
       "    .dataframe tbody tr th:only-of-type {\n",
       "        vertical-align: middle;\n",
       "    }\n",
       "\n",
       "    .dataframe tbody tr th {\n",
       "        vertical-align: top;\n",
       "    }\n",
       "\n",
       "    .dataframe thead th {\n",
       "        text-align: right;\n",
       "    }\n",
       "</style>\n",
       "<table border=\"1\" class=\"dataframe\">\n",
       "  <thead>\n",
       "    <tr style=\"text-align: right;\">\n",
       "      <th></th>\n",
       "      <th>price</th>\n",
       "    </tr>\n",
       "    <tr>\n",
       "      <th>town</th>\n",
       "      <th></th>\n",
       "    </tr>\n",
       "  </thead>\n",
       "  <tbody>\n",
       "    <tr>\n",
       "      <th>el haram</th>\n",
       "      <td>622500.0</td>\n",
       "    </tr>\n",
       "    <tr>\n",
       "      <th>el helmya</th>\n",
       "      <td>640000.0</td>\n",
       "    </tr>\n",
       "    <tr>\n",
       "      <th>faysal</th>\n",
       "      <td>626000.0</td>\n",
       "    </tr>\n",
       "  </tbody>\n",
       "</table>\n",
       "</div>"
      ],
      "text/plain": [
       "              price\n",
       "town               \n",
       "el haram   622500.0\n",
       "el helmya  640000.0\n",
       "faysal     626000.0"
      ]
     },
     "execution_count": 7,
     "metadata": {},
     "output_type": "execute_result"
    }
   ],
   "source": [
    "data.groupby(\"town\").mean()[[\"price\"]]"
   ]
  },
  {
   "cell_type": "code",
   "execution_count": 8,
   "id": "07fb1f14",
   "metadata": {
    "ExecuteTime": {
     "end_time": "2024-09-21T15:14:40.501758Z",
     "start_time": "2024-09-21T15:14:40.479421Z"
    }
   },
   "outputs": [
    {
     "data": {
      "text/html": [
       "<div>\n",
       "<style scoped>\n",
       "    .dataframe tbody tr th:only-of-type {\n",
       "        vertical-align: middle;\n",
       "    }\n",
       "\n",
       "    .dataframe tbody tr th {\n",
       "        vertical-align: top;\n",
       "    }\n",
       "\n",
       "    .dataframe thead th {\n",
       "        text-align: right;\n",
       "    }\n",
       "</style>\n",
       "<table border=\"1\" class=\"dataframe\">\n",
       "  <thead>\n",
       "    <tr style=\"text-align: right;\">\n",
       "      <th></th>\n",
       "      <th>area</th>\n",
       "      <th>price</th>\n",
       "    </tr>\n",
       "    <tr>\n",
       "      <th>town</th>\n",
       "      <th></th>\n",
       "      <th></th>\n",
       "    </tr>\n",
       "  </thead>\n",
       "  <tbody>\n",
       "    <tr>\n",
       "      <th>el haram</th>\n",
       "      <td>3050.0</td>\n",
       "      <td>622500.0</td>\n",
       "    </tr>\n",
       "    <tr>\n",
       "      <th>el helmya</th>\n",
       "      <td>3075.0</td>\n",
       "      <td>640000.0</td>\n",
       "    </tr>\n",
       "    <tr>\n",
       "      <th>faysal</th>\n",
       "      <td>3280.0</td>\n",
       "      <td>626000.0</td>\n",
       "    </tr>\n",
       "  </tbody>\n",
       "</table>\n",
       "</div>"
      ],
      "text/plain": [
       "             area     price\n",
       "town                       \n",
       "el haram   3050.0  622500.0\n",
       "el helmya  3075.0  640000.0\n",
       "faysal     3280.0  626000.0"
      ]
     },
     "execution_count": 8,
     "metadata": {},
     "output_type": "execute_result"
    }
   ],
   "source": [
    "data.groupby(\"town\").mean()"
   ]
  },
  {
   "cell_type": "code",
   "execution_count": 9,
   "id": "f8febf0e",
   "metadata": {
    "ExecuteTime": {
     "end_time": "2024-09-21T15:14:41.334642Z",
     "start_time": "2024-09-21T15:14:41.320087Z"
    }
   },
   "outputs": [
    {
     "data": {
      "text/plain": [
       "faysal       5\n",
       "el helmya    4\n",
       "el haram     4\n",
       "Name: town, dtype: int64"
      ]
     },
     "execution_count": 9,
     "metadata": {},
     "output_type": "execute_result"
    }
   ],
   "source": [
    "data.town.value_counts()"
   ]
  },
  {
   "cell_type": "code",
   "execution_count": 10,
   "id": "290c3a1c",
   "metadata": {
    "ExecuteTime": {
     "end_time": "2024-09-21T15:14:41.662506Z",
     "start_time": "2024-09-21T15:14:41.652099Z"
    }
   },
   "outputs": [],
   "source": [
    "data[\"p/m\"]  = data.price / data.area "
   ]
  },
  {
   "cell_type": "code",
   "execution_count": 11,
   "id": "03b9530c",
   "metadata": {
    "ExecuteTime": {
     "end_time": "2024-09-21T15:14:41.999216Z",
     "start_time": "2024-09-21T15:14:41.981042Z"
    }
   },
   "outputs": [
    {
     "data": {
      "text/html": [
       "<div>\n",
       "<style scoped>\n",
       "    .dataframe tbody tr th:only-of-type {\n",
       "        vertical-align: middle;\n",
       "    }\n",
       "\n",
       "    .dataframe tbody tr th {\n",
       "        vertical-align: top;\n",
       "    }\n",
       "\n",
       "    .dataframe thead th {\n",
       "        text-align: right;\n",
       "    }\n",
       "</style>\n",
       "<table border=\"1\" class=\"dataframe\">\n",
       "  <thead>\n",
       "    <tr style=\"text-align: right;\">\n",
       "      <th></th>\n",
       "      <th>town</th>\n",
       "      <th>area</th>\n",
       "      <th>price</th>\n",
       "      <th>p/m</th>\n",
       "    </tr>\n",
       "  </thead>\n",
       "  <tbody>\n",
       "    <tr>\n",
       "      <th>0</th>\n",
       "      <td>faysal</td>\n",
       "      <td>2600</td>\n",
       "      <td>550000</td>\n",
       "      <td>211.538462</td>\n",
       "    </tr>\n",
       "    <tr>\n",
       "      <th>1</th>\n",
       "      <td>faysal</td>\n",
       "      <td>3000</td>\n",
       "      <td>565000</td>\n",
       "      <td>188.333333</td>\n",
       "    </tr>\n",
       "    <tr>\n",
       "      <th>2</th>\n",
       "      <td>faysal</td>\n",
       "      <td>3200</td>\n",
       "      <td>610000</td>\n",
       "      <td>190.625000</td>\n",
       "    </tr>\n",
       "    <tr>\n",
       "      <th>3</th>\n",
       "      <td>faysal</td>\n",
       "      <td>3600</td>\n",
       "      <td>680000</td>\n",
       "      <td>188.888889</td>\n",
       "    </tr>\n",
       "    <tr>\n",
       "      <th>4</th>\n",
       "      <td>faysal</td>\n",
       "      <td>4000</td>\n",
       "      <td>725000</td>\n",
       "      <td>181.250000</td>\n",
       "    </tr>\n",
       "    <tr>\n",
       "      <th>5</th>\n",
       "      <td>el helmya</td>\n",
       "      <td>2600</td>\n",
       "      <td>585000</td>\n",
       "      <td>225.000000</td>\n",
       "    </tr>\n",
       "    <tr>\n",
       "      <th>6</th>\n",
       "      <td>el helmya</td>\n",
       "      <td>2800</td>\n",
       "      <td>615000</td>\n",
       "      <td>219.642857</td>\n",
       "    </tr>\n",
       "    <tr>\n",
       "      <th>7</th>\n",
       "      <td>el helmya</td>\n",
       "      <td>3300</td>\n",
       "      <td>650000</td>\n",
       "      <td>196.969697</td>\n",
       "    </tr>\n",
       "    <tr>\n",
       "      <th>8</th>\n",
       "      <td>el helmya</td>\n",
       "      <td>3600</td>\n",
       "      <td>710000</td>\n",
       "      <td>197.222222</td>\n",
       "    </tr>\n",
       "    <tr>\n",
       "      <th>9</th>\n",
       "      <td>el haram</td>\n",
       "      <td>2600</td>\n",
       "      <td>575000</td>\n",
       "      <td>221.153846</td>\n",
       "    </tr>\n",
       "    <tr>\n",
       "      <th>10</th>\n",
       "      <td>el haram</td>\n",
       "      <td>2900</td>\n",
       "      <td>600000</td>\n",
       "      <td>206.896552</td>\n",
       "    </tr>\n",
       "    <tr>\n",
       "      <th>11</th>\n",
       "      <td>el haram</td>\n",
       "      <td>3100</td>\n",
       "      <td>620000</td>\n",
       "      <td>200.000000</td>\n",
       "    </tr>\n",
       "    <tr>\n",
       "      <th>12</th>\n",
       "      <td>el haram</td>\n",
       "      <td>3600</td>\n",
       "      <td>695000</td>\n",
       "      <td>193.055556</td>\n",
       "    </tr>\n",
       "  </tbody>\n",
       "</table>\n",
       "</div>"
      ],
      "text/plain": [
       "         town  area   price         p/m\n",
       "0      faysal  2600  550000  211.538462\n",
       "1      faysal  3000  565000  188.333333\n",
       "2      faysal  3200  610000  190.625000\n",
       "3      faysal  3600  680000  188.888889\n",
       "4      faysal  4000  725000  181.250000\n",
       "5   el helmya  2600  585000  225.000000\n",
       "6   el helmya  2800  615000  219.642857\n",
       "7   el helmya  3300  650000  196.969697\n",
       "8   el helmya  3600  710000  197.222222\n",
       "9    el haram  2600  575000  221.153846\n",
       "10   el haram  2900  600000  206.896552\n",
       "11   el haram  3100  620000  200.000000\n",
       "12   el haram  3600  695000  193.055556"
      ]
     },
     "execution_count": 11,
     "metadata": {},
     "output_type": "execute_result"
    }
   ],
   "source": [
    "data "
   ]
  },
  {
   "cell_type": "code",
   "execution_count": 12,
   "id": "82271dd4",
   "metadata": {
    "ExecuteTime": {
     "end_time": "2024-09-21T15:15:26.278515Z",
     "start_time": "2024-09-21T15:15:26.260171Z"
    }
   },
   "outputs": [
    {
     "data": {
      "text/html": [
       "<div>\n",
       "<style scoped>\n",
       "    .dataframe tbody tr th:only-of-type {\n",
       "        vertical-align: middle;\n",
       "    }\n",
       "\n",
       "    .dataframe tbody tr th {\n",
       "        vertical-align: top;\n",
       "    }\n",
       "\n",
       "    .dataframe thead th {\n",
       "        text-align: right;\n",
       "    }\n",
       "</style>\n",
       "<table border=\"1\" class=\"dataframe\">\n",
       "  <thead>\n",
       "    <tr style=\"text-align: right;\">\n",
       "      <th></th>\n",
       "      <th>p/m</th>\n",
       "    </tr>\n",
       "    <tr>\n",
       "      <th>town</th>\n",
       "      <th></th>\n",
       "    </tr>\n",
       "  </thead>\n",
       "  <tbody>\n",
       "    <tr>\n",
       "      <th>el haram</th>\n",
       "      <td>205.276488</td>\n",
       "    </tr>\n",
       "    <tr>\n",
       "      <th>el helmya</th>\n",
       "      <td>209.708694</td>\n",
       "    </tr>\n",
       "    <tr>\n",
       "      <th>faysal</th>\n",
       "      <td>192.127137</td>\n",
       "    </tr>\n",
       "  </tbody>\n",
       "</table>\n",
       "</div>"
      ],
      "text/plain": [
       "                  p/m\n",
       "town                 \n",
       "el haram   205.276488\n",
       "el helmya  209.708694\n",
       "faysal     192.127137"
      ]
     },
     "execution_count": 12,
     "metadata": {},
     "output_type": "execute_result"
    }
   ],
   "source": [
    "data.groupby(\"town\").mean()[[\"p/m\"]]"
   ]
  },
  {
   "cell_type": "code",
   "execution_count": 34,
   "id": "7df190b8",
   "metadata": {
    "ExecuteTime": {
     "end_time": "2024-09-21T10:17:47.137894Z",
     "start_time": "2024-09-21T10:17:47.121007Z"
    }
   },
   "outputs": [
    {
     "data": {
      "text/html": [
       "<div>\n",
       "<style scoped>\n",
       "    .dataframe tbody tr th:only-of-type {\n",
       "        vertical-align: middle;\n",
       "    }\n",
       "\n",
       "    .dataframe tbody tr th {\n",
       "        vertical-align: top;\n",
       "    }\n",
       "\n",
       "    .dataframe thead th {\n",
       "        text-align: right;\n",
       "    }\n",
       "</style>\n",
       "<table border=\"1\" class=\"dataframe\">\n",
       "  <thead>\n",
       "    <tr style=\"text-align: right;\">\n",
       "      <th></th>\n",
       "      <th>town</th>\n",
       "      <th>area</th>\n",
       "      <th>price</th>\n",
       "      <th>p/m</th>\n",
       "    </tr>\n",
       "  </thead>\n",
       "  <tbody>\n",
       "    <tr>\n",
       "      <th>0</th>\n",
       "      <td>faysal</td>\n",
       "      <td>2600</td>\n",
       "      <td>550000</td>\n",
       "      <td>211.538462</td>\n",
       "    </tr>\n",
       "    <tr>\n",
       "      <th>1</th>\n",
       "      <td>faysal</td>\n",
       "      <td>3000</td>\n",
       "      <td>565000</td>\n",
       "      <td>188.333333</td>\n",
       "    </tr>\n",
       "    <tr>\n",
       "      <th>2</th>\n",
       "      <td>faysal</td>\n",
       "      <td>3200</td>\n",
       "      <td>610000</td>\n",
       "      <td>190.625000</td>\n",
       "    </tr>\n",
       "    <tr>\n",
       "      <th>3</th>\n",
       "      <td>faysal</td>\n",
       "      <td>3600</td>\n",
       "      <td>680000</td>\n",
       "      <td>188.888889</td>\n",
       "    </tr>\n",
       "    <tr>\n",
       "      <th>4</th>\n",
       "      <td>faysal</td>\n",
       "      <td>4000</td>\n",
       "      <td>725000</td>\n",
       "      <td>181.250000</td>\n",
       "    </tr>\n",
       "    <tr>\n",
       "      <th>5</th>\n",
       "      <td>el helmya</td>\n",
       "      <td>2600</td>\n",
       "      <td>585000</td>\n",
       "      <td>225.000000</td>\n",
       "    </tr>\n",
       "    <tr>\n",
       "      <th>6</th>\n",
       "      <td>el helmya</td>\n",
       "      <td>2800</td>\n",
       "      <td>615000</td>\n",
       "      <td>219.642857</td>\n",
       "    </tr>\n",
       "    <tr>\n",
       "      <th>7</th>\n",
       "      <td>el helmya</td>\n",
       "      <td>3300</td>\n",
       "      <td>650000</td>\n",
       "      <td>196.969697</td>\n",
       "    </tr>\n",
       "    <tr>\n",
       "      <th>8</th>\n",
       "      <td>el helmya</td>\n",
       "      <td>3600</td>\n",
       "      <td>710000</td>\n",
       "      <td>197.222222</td>\n",
       "    </tr>\n",
       "    <tr>\n",
       "      <th>9</th>\n",
       "      <td>el haram</td>\n",
       "      <td>2600</td>\n",
       "      <td>575000</td>\n",
       "      <td>221.153846</td>\n",
       "    </tr>\n",
       "    <tr>\n",
       "      <th>10</th>\n",
       "      <td>el haram</td>\n",
       "      <td>2900</td>\n",
       "      <td>600000</td>\n",
       "      <td>206.896552</td>\n",
       "    </tr>\n",
       "    <tr>\n",
       "      <th>11</th>\n",
       "      <td>el haram</td>\n",
       "      <td>3100</td>\n",
       "      <td>620000</td>\n",
       "      <td>200.000000</td>\n",
       "    </tr>\n",
       "    <tr>\n",
       "      <th>12</th>\n",
       "      <td>el haram</td>\n",
       "      <td>3600</td>\n",
       "      <td>695000</td>\n",
       "      <td>193.055556</td>\n",
       "    </tr>\n",
       "  </tbody>\n",
       "</table>\n",
       "</div>"
      ],
      "text/plain": [
       "         town  area   price         p/m\n",
       "0      faysal  2600  550000  211.538462\n",
       "1      faysal  3000  565000  188.333333\n",
       "2      faysal  3200  610000  190.625000\n",
       "3      faysal  3600  680000  188.888889\n",
       "4      faysal  4000  725000  181.250000\n",
       "5   el helmya  2600  585000  225.000000\n",
       "6   el helmya  2800  615000  219.642857\n",
       "7   el helmya  3300  650000  196.969697\n",
       "8   el helmya  3600  710000  197.222222\n",
       "9    el haram  2600  575000  221.153846\n",
       "10   el haram  2900  600000  206.896552\n",
       "11   el haram  3100  620000  200.000000\n",
       "12   el haram  3600  695000  193.055556"
      ]
     },
     "execution_count": 34,
     "metadata": {},
     "output_type": "execute_result"
    }
   ],
   "source": [
    "data "
   ]
  },
  {
   "cell_type": "code",
   "execution_count": 13,
   "id": "207a48dc",
   "metadata": {
    "ExecuteTime": {
     "end_time": "2024-09-21T15:16:53.959776Z",
     "start_time": "2024-09-21T15:16:53.939648Z"
    }
   },
   "outputs": [
    {
     "data": {
      "text/html": [
       "<div>\n",
       "<style scoped>\n",
       "    .dataframe tbody tr th:only-of-type {\n",
       "        vertical-align: middle;\n",
       "    }\n",
       "\n",
       "    .dataframe tbody tr th {\n",
       "        vertical-align: top;\n",
       "    }\n",
       "\n",
       "    .dataframe thead th {\n",
       "        text-align: right;\n",
       "    }\n",
       "</style>\n",
       "<table border=\"1\" class=\"dataframe\">\n",
       "  <thead>\n",
       "    <tr style=\"text-align: right;\">\n",
       "      <th></th>\n",
       "      <th>el haram</th>\n",
       "      <th>el helmya</th>\n",
       "      <th>faysal</th>\n",
       "    </tr>\n",
       "  </thead>\n",
       "  <tbody>\n",
       "    <tr>\n",
       "      <th>0</th>\n",
       "      <td>0</td>\n",
       "      <td>0</td>\n",
       "      <td>1</td>\n",
       "    </tr>\n",
       "    <tr>\n",
       "      <th>1</th>\n",
       "      <td>0</td>\n",
       "      <td>0</td>\n",
       "      <td>1</td>\n",
       "    </tr>\n",
       "    <tr>\n",
       "      <th>2</th>\n",
       "      <td>0</td>\n",
       "      <td>0</td>\n",
       "      <td>1</td>\n",
       "    </tr>\n",
       "    <tr>\n",
       "      <th>3</th>\n",
       "      <td>0</td>\n",
       "      <td>0</td>\n",
       "      <td>1</td>\n",
       "    </tr>\n",
       "    <tr>\n",
       "      <th>4</th>\n",
       "      <td>0</td>\n",
       "      <td>0</td>\n",
       "      <td>1</td>\n",
       "    </tr>\n",
       "    <tr>\n",
       "      <th>5</th>\n",
       "      <td>0</td>\n",
       "      <td>1</td>\n",
       "      <td>0</td>\n",
       "    </tr>\n",
       "    <tr>\n",
       "      <th>6</th>\n",
       "      <td>0</td>\n",
       "      <td>1</td>\n",
       "      <td>0</td>\n",
       "    </tr>\n",
       "    <tr>\n",
       "      <th>7</th>\n",
       "      <td>0</td>\n",
       "      <td>1</td>\n",
       "      <td>0</td>\n",
       "    </tr>\n",
       "    <tr>\n",
       "      <th>8</th>\n",
       "      <td>0</td>\n",
       "      <td>1</td>\n",
       "      <td>0</td>\n",
       "    </tr>\n",
       "    <tr>\n",
       "      <th>9</th>\n",
       "      <td>1</td>\n",
       "      <td>0</td>\n",
       "      <td>0</td>\n",
       "    </tr>\n",
       "    <tr>\n",
       "      <th>10</th>\n",
       "      <td>1</td>\n",
       "      <td>0</td>\n",
       "      <td>0</td>\n",
       "    </tr>\n",
       "    <tr>\n",
       "      <th>11</th>\n",
       "      <td>1</td>\n",
       "      <td>0</td>\n",
       "      <td>0</td>\n",
       "    </tr>\n",
       "    <tr>\n",
       "      <th>12</th>\n",
       "      <td>1</td>\n",
       "      <td>0</td>\n",
       "      <td>0</td>\n",
       "    </tr>\n",
       "  </tbody>\n",
       "</table>\n",
       "</div>"
      ],
      "text/plain": [
       "    el haram  el helmya  faysal\n",
       "0          0          0       1\n",
       "1          0          0       1\n",
       "2          0          0       1\n",
       "3          0          0       1\n",
       "4          0          0       1\n",
       "5          0          1       0\n",
       "6          0          1       0\n",
       "7          0          1       0\n",
       "8          0          1       0\n",
       "9          1          0       0\n",
       "10         1          0       0\n",
       "11         1          0       0\n",
       "12         1          0       0"
      ]
     },
     "execution_count": 13,
     "metadata": {},
     "output_type": "execute_result"
    }
   ],
   "source": [
    "towns = pd.get_dummies(data.town)\n",
    "towns"
   ]
  },
  {
   "cell_type": "markdown",
   "id": "8c2a96a1",
   "metadata": {},
   "source": [
    "price = m1 * el haram + m2 * helmya + m3 * faysal + m4 * area + b "
   ]
  },
  {
   "cell_type": "markdown",
   "id": "b1b8d2bb",
   "metadata": {},
   "source": [
    "**Task : types of encoding & when to use each**"
   ]
  },
  {
   "cell_type": "code",
   "execution_count": 14,
   "id": "44cd4fe7",
   "metadata": {
    "ExecuteTime": {
     "end_time": "2024-09-21T15:19:44.336499Z",
     "start_time": "2024-09-21T15:19:44.325219Z"
    }
   },
   "outputs": [],
   "source": [
    "final = pd.concat( [data, towns] , axis= 1  )"
   ]
  },
  {
   "cell_type": "code",
   "execution_count": 15,
   "id": "23386e33",
   "metadata": {
    "ExecuteTime": {
     "end_time": "2024-09-21T15:19:44.663891Z",
     "start_time": "2024-09-21T15:19:44.641564Z"
    }
   },
   "outputs": [
    {
     "data": {
      "text/html": [
       "<div>\n",
       "<style scoped>\n",
       "    .dataframe tbody tr th:only-of-type {\n",
       "        vertical-align: middle;\n",
       "    }\n",
       "\n",
       "    .dataframe tbody tr th {\n",
       "        vertical-align: top;\n",
       "    }\n",
       "\n",
       "    .dataframe thead th {\n",
       "        text-align: right;\n",
       "    }\n",
       "</style>\n",
       "<table border=\"1\" class=\"dataframe\">\n",
       "  <thead>\n",
       "    <tr style=\"text-align: right;\">\n",
       "      <th></th>\n",
       "      <th>town</th>\n",
       "      <th>area</th>\n",
       "      <th>price</th>\n",
       "      <th>p/m</th>\n",
       "      <th>el haram</th>\n",
       "      <th>el helmya</th>\n",
       "      <th>faysal</th>\n",
       "    </tr>\n",
       "  </thead>\n",
       "  <tbody>\n",
       "    <tr>\n",
       "      <th>0</th>\n",
       "      <td>faysal</td>\n",
       "      <td>2600</td>\n",
       "      <td>550000</td>\n",
       "      <td>211.538462</td>\n",
       "      <td>0</td>\n",
       "      <td>0</td>\n",
       "      <td>1</td>\n",
       "    </tr>\n",
       "    <tr>\n",
       "      <th>1</th>\n",
       "      <td>faysal</td>\n",
       "      <td>3000</td>\n",
       "      <td>565000</td>\n",
       "      <td>188.333333</td>\n",
       "      <td>0</td>\n",
       "      <td>0</td>\n",
       "      <td>1</td>\n",
       "    </tr>\n",
       "    <tr>\n",
       "      <th>2</th>\n",
       "      <td>faysal</td>\n",
       "      <td>3200</td>\n",
       "      <td>610000</td>\n",
       "      <td>190.625000</td>\n",
       "      <td>0</td>\n",
       "      <td>0</td>\n",
       "      <td>1</td>\n",
       "    </tr>\n",
       "    <tr>\n",
       "      <th>3</th>\n",
       "      <td>faysal</td>\n",
       "      <td>3600</td>\n",
       "      <td>680000</td>\n",
       "      <td>188.888889</td>\n",
       "      <td>0</td>\n",
       "      <td>0</td>\n",
       "      <td>1</td>\n",
       "    </tr>\n",
       "    <tr>\n",
       "      <th>4</th>\n",
       "      <td>faysal</td>\n",
       "      <td>4000</td>\n",
       "      <td>725000</td>\n",
       "      <td>181.250000</td>\n",
       "      <td>0</td>\n",
       "      <td>0</td>\n",
       "      <td>1</td>\n",
       "    </tr>\n",
       "    <tr>\n",
       "      <th>5</th>\n",
       "      <td>el helmya</td>\n",
       "      <td>2600</td>\n",
       "      <td>585000</td>\n",
       "      <td>225.000000</td>\n",
       "      <td>0</td>\n",
       "      <td>1</td>\n",
       "      <td>0</td>\n",
       "    </tr>\n",
       "    <tr>\n",
       "      <th>6</th>\n",
       "      <td>el helmya</td>\n",
       "      <td>2800</td>\n",
       "      <td>615000</td>\n",
       "      <td>219.642857</td>\n",
       "      <td>0</td>\n",
       "      <td>1</td>\n",
       "      <td>0</td>\n",
       "    </tr>\n",
       "    <tr>\n",
       "      <th>7</th>\n",
       "      <td>el helmya</td>\n",
       "      <td>3300</td>\n",
       "      <td>650000</td>\n",
       "      <td>196.969697</td>\n",
       "      <td>0</td>\n",
       "      <td>1</td>\n",
       "      <td>0</td>\n",
       "    </tr>\n",
       "    <tr>\n",
       "      <th>8</th>\n",
       "      <td>el helmya</td>\n",
       "      <td>3600</td>\n",
       "      <td>710000</td>\n",
       "      <td>197.222222</td>\n",
       "      <td>0</td>\n",
       "      <td>1</td>\n",
       "      <td>0</td>\n",
       "    </tr>\n",
       "    <tr>\n",
       "      <th>9</th>\n",
       "      <td>el haram</td>\n",
       "      <td>2600</td>\n",
       "      <td>575000</td>\n",
       "      <td>221.153846</td>\n",
       "      <td>1</td>\n",
       "      <td>0</td>\n",
       "      <td>0</td>\n",
       "    </tr>\n",
       "    <tr>\n",
       "      <th>10</th>\n",
       "      <td>el haram</td>\n",
       "      <td>2900</td>\n",
       "      <td>600000</td>\n",
       "      <td>206.896552</td>\n",
       "      <td>1</td>\n",
       "      <td>0</td>\n",
       "      <td>0</td>\n",
       "    </tr>\n",
       "    <tr>\n",
       "      <th>11</th>\n",
       "      <td>el haram</td>\n",
       "      <td>3100</td>\n",
       "      <td>620000</td>\n",
       "      <td>200.000000</td>\n",
       "      <td>1</td>\n",
       "      <td>0</td>\n",
       "      <td>0</td>\n",
       "    </tr>\n",
       "    <tr>\n",
       "      <th>12</th>\n",
       "      <td>el haram</td>\n",
       "      <td>3600</td>\n",
       "      <td>695000</td>\n",
       "      <td>193.055556</td>\n",
       "      <td>1</td>\n",
       "      <td>0</td>\n",
       "      <td>0</td>\n",
       "    </tr>\n",
       "  </tbody>\n",
       "</table>\n",
       "</div>"
      ],
      "text/plain": [
       "         town  area   price         p/m  el haram  el helmya  faysal\n",
       "0      faysal  2600  550000  211.538462         0          0       1\n",
       "1      faysal  3000  565000  188.333333         0          0       1\n",
       "2      faysal  3200  610000  190.625000         0          0       1\n",
       "3      faysal  3600  680000  188.888889         0          0       1\n",
       "4      faysal  4000  725000  181.250000         0          0       1\n",
       "5   el helmya  2600  585000  225.000000         0          1       0\n",
       "6   el helmya  2800  615000  219.642857         0          1       0\n",
       "7   el helmya  3300  650000  196.969697         0          1       0\n",
       "8   el helmya  3600  710000  197.222222         0          1       0\n",
       "9    el haram  2600  575000  221.153846         1          0       0\n",
       "10   el haram  2900  600000  206.896552         1          0       0\n",
       "11   el haram  3100  620000  200.000000         1          0       0\n",
       "12   el haram  3600  695000  193.055556         1          0       0"
      ]
     },
     "execution_count": 15,
     "metadata": {},
     "output_type": "execute_result"
    }
   ],
   "source": [
    "final"
   ]
  },
  {
   "cell_type": "code",
   "execution_count": 16,
   "id": "88261fe5",
   "metadata": {
    "ExecuteTime": {
     "end_time": "2024-09-21T15:19:57.952442Z",
     "start_time": "2024-09-21T15:19:57.945658Z"
    }
   },
   "outputs": [],
   "source": [
    "x = final.drop ([\"town\" , \"p/m\", \"price\"] , axis= 1 )"
   ]
  },
  {
   "cell_type": "code",
   "execution_count": 17,
   "id": "9fe9852b",
   "metadata": {
    "ExecuteTime": {
     "end_time": "2024-09-21T15:19:59.066842Z",
     "start_time": "2024-09-21T15:19:59.045528Z"
    }
   },
   "outputs": [
    {
     "data": {
      "text/html": [
       "<div>\n",
       "<style scoped>\n",
       "    .dataframe tbody tr th:only-of-type {\n",
       "        vertical-align: middle;\n",
       "    }\n",
       "\n",
       "    .dataframe tbody tr th {\n",
       "        vertical-align: top;\n",
       "    }\n",
       "\n",
       "    .dataframe thead th {\n",
       "        text-align: right;\n",
       "    }\n",
       "</style>\n",
       "<table border=\"1\" class=\"dataframe\">\n",
       "  <thead>\n",
       "    <tr style=\"text-align: right;\">\n",
       "      <th></th>\n",
       "      <th>area</th>\n",
       "      <th>el haram</th>\n",
       "      <th>el helmya</th>\n",
       "      <th>faysal</th>\n",
       "    </tr>\n",
       "  </thead>\n",
       "  <tbody>\n",
       "    <tr>\n",
       "      <th>0</th>\n",
       "      <td>2600</td>\n",
       "      <td>0</td>\n",
       "      <td>0</td>\n",
       "      <td>1</td>\n",
       "    </tr>\n",
       "    <tr>\n",
       "      <th>1</th>\n",
       "      <td>3000</td>\n",
       "      <td>0</td>\n",
       "      <td>0</td>\n",
       "      <td>1</td>\n",
       "    </tr>\n",
       "    <tr>\n",
       "      <th>2</th>\n",
       "      <td>3200</td>\n",
       "      <td>0</td>\n",
       "      <td>0</td>\n",
       "      <td>1</td>\n",
       "    </tr>\n",
       "    <tr>\n",
       "      <th>3</th>\n",
       "      <td>3600</td>\n",
       "      <td>0</td>\n",
       "      <td>0</td>\n",
       "      <td>1</td>\n",
       "    </tr>\n",
       "    <tr>\n",
       "      <th>4</th>\n",
       "      <td>4000</td>\n",
       "      <td>0</td>\n",
       "      <td>0</td>\n",
       "      <td>1</td>\n",
       "    </tr>\n",
       "    <tr>\n",
       "      <th>5</th>\n",
       "      <td>2600</td>\n",
       "      <td>0</td>\n",
       "      <td>1</td>\n",
       "      <td>0</td>\n",
       "    </tr>\n",
       "    <tr>\n",
       "      <th>6</th>\n",
       "      <td>2800</td>\n",
       "      <td>0</td>\n",
       "      <td>1</td>\n",
       "      <td>0</td>\n",
       "    </tr>\n",
       "    <tr>\n",
       "      <th>7</th>\n",
       "      <td>3300</td>\n",
       "      <td>0</td>\n",
       "      <td>1</td>\n",
       "      <td>0</td>\n",
       "    </tr>\n",
       "    <tr>\n",
       "      <th>8</th>\n",
       "      <td>3600</td>\n",
       "      <td>0</td>\n",
       "      <td>1</td>\n",
       "      <td>0</td>\n",
       "    </tr>\n",
       "    <tr>\n",
       "      <th>9</th>\n",
       "      <td>2600</td>\n",
       "      <td>1</td>\n",
       "      <td>0</td>\n",
       "      <td>0</td>\n",
       "    </tr>\n",
       "    <tr>\n",
       "      <th>10</th>\n",
       "      <td>2900</td>\n",
       "      <td>1</td>\n",
       "      <td>0</td>\n",
       "      <td>0</td>\n",
       "    </tr>\n",
       "    <tr>\n",
       "      <th>11</th>\n",
       "      <td>3100</td>\n",
       "      <td>1</td>\n",
       "      <td>0</td>\n",
       "      <td>0</td>\n",
       "    </tr>\n",
       "    <tr>\n",
       "      <th>12</th>\n",
       "      <td>3600</td>\n",
       "      <td>1</td>\n",
       "      <td>0</td>\n",
       "      <td>0</td>\n",
       "    </tr>\n",
       "  </tbody>\n",
       "</table>\n",
       "</div>"
      ],
      "text/plain": [
       "    area  el haram  el helmya  faysal\n",
       "0   2600         0          0       1\n",
       "1   3000         0          0       1\n",
       "2   3200         0          0       1\n",
       "3   3600         0          0       1\n",
       "4   4000         0          0       1\n",
       "5   2600         0          1       0\n",
       "6   2800         0          1       0\n",
       "7   3300         0          1       0\n",
       "8   3600         0          1       0\n",
       "9   2600         1          0       0\n",
       "10  2900         1          0       0\n",
       "11  3100         1          0       0\n",
       "12  3600         1          0       0"
      ]
     },
     "execution_count": 17,
     "metadata": {},
     "output_type": "execute_result"
    }
   ],
   "source": [
    "x "
   ]
  },
  {
   "cell_type": "code",
   "execution_count": 18,
   "id": "742b7d33",
   "metadata": {
    "ExecuteTime": {
     "end_time": "2024-09-21T15:20:07.266999Z",
     "start_time": "2024-09-21T15:20:07.260383Z"
    }
   },
   "outputs": [],
   "source": [
    "y = final.price "
   ]
  },
  {
   "cell_type": "code",
   "execution_count": 19,
   "id": "15568f28",
   "metadata": {
    "ExecuteTime": {
     "end_time": "2024-09-21T15:20:10.729048Z",
     "start_time": "2024-09-21T15:20:10.191850Z"
    }
   },
   "outputs": [],
   "source": [
    "from sklearn.linear_model import LinearRegression"
   ]
  },
  {
   "cell_type": "code",
   "execution_count": 20,
   "id": "4012661a",
   "metadata": {
    "ExecuteTime": {
     "end_time": "2024-09-21T15:20:12.749827Z",
     "start_time": "2024-09-21T15:20:12.744469Z"
    }
   },
   "outputs": [],
   "source": [
    "model = LinearRegression()"
   ]
  },
  {
   "cell_type": "code",
   "execution_count": 46,
   "id": "acf3415f",
   "metadata": {
    "ExecuteTime": {
     "end_time": "2024-09-21T10:19:42.134857Z",
     "start_time": "2024-09-21T10:19:42.110103Z"
    }
   },
   "outputs": [
    {
     "data": {
      "text/plain": [
       "LinearRegression()"
      ]
     },
     "execution_count": 46,
     "metadata": {},
     "output_type": "execute_result"
    }
   ],
   "source": [
    "model.fit(x,y)"
   ]
  },
  {
   "cell_type": "code",
   "execution_count": 47,
   "id": "6f857eb8",
   "metadata": {
    "ExecuteTime": {
     "end_time": "2024-09-21T10:19:47.358720Z",
     "start_time": "2024-09-21T10:19:47.336987Z"
    }
   },
   "outputs": [
    {
     "data": {
      "text/plain": [
       "0.9573929037221874"
      ]
     },
     "execution_count": 47,
     "metadata": {},
     "output_type": "execute_result"
    }
   ],
   "source": [
    "model.score(x,y)"
   ]
  },
  {
   "cell_type": "code",
   "execution_count": 50,
   "id": "aa5b64fd",
   "metadata": {
    "ExecuteTime": {
     "end_time": "2024-09-21T10:20:53.793105Z",
     "start_time": "2024-09-21T10:20:53.776686Z"
    }
   },
   "outputs": [
    {
     "data": {
      "text/plain": [
       "array([539709.73984091])"
      ]
     },
     "execution_count": 50,
     "metadata": {},
     "output_type": "execute_result"
    }
   ],
   "source": [
    "model.predict ( [[2600 ,0 ,0 ,1]])"
   ]
  },
  {
   "cell_type": "code",
   "execution_count": null,
   "id": "5f2d2328",
   "metadata": {},
   "outputs": [],
   "source": []
  }
 ],
 "metadata": {
  "kernelspec": {
   "display_name": "Python 3 (ipykernel)",
   "language": "python",
   "name": "python3"
  },
  "language_info": {
   "codemirror_mode": {
    "name": "ipython",
    "version": 3
   },
   "file_extension": ".py",
   "mimetype": "text/x-python",
   "name": "python",
   "nbconvert_exporter": "python",
   "pygments_lexer": "ipython3",
   "version": "3.9.13"
  }
 },
 "nbformat": 4,
 "nbformat_minor": 5
}
